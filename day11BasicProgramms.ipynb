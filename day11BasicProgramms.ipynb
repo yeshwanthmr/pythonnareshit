{
 "cells": [
  {
   "cell_type": "code",
   "execution_count": 2,
   "id": "af9d3cd9-adff-4032-ab2a-36a9482638ae",
   "metadata": {},
   "outputs": [
    {
     "name": "stdout",
     "output_type": "stream",
     "text": [
      "the square of 100 is 10000\n"
     ]
    }
   ],
   "source": [
    "number = 100\n",
    "square = number * number\n",
    "print(\"the square of {} is {}\".format(number,square))"
   ]
  },
  {
   "cell_type": "code",
   "execution_count": 4,
   "id": "c34f7500-8a50-48d9-9e05-85e1352c0956",
   "metadata": {},
   "outputs": [
    {
     "ename": "SyntaxError",
     "evalue": "f-string: valid expression required before '}' (1655623298.py, line 1)",
     "output_type": "error",
     "traceback": [
      "\u001b[1;36m  Cell \u001b[1;32mIn[4], line 1\u001b[1;36m\u001b[0m\n\u001b[1;33m    print(f\"the square of{} is {}\")\u001b[0m\n\u001b[1;37m                          ^\u001b[0m\n\u001b[1;31mSyntaxError\u001b[0m\u001b[1;31m:\u001b[0m f-string: valid expression required before '}'\n"
     ]
    }
   ],
   "source": [
    "print(f\"the square of {} is {}\") "
   ]
  },
  {
   "cell_type": "code",
   "execution_count": 6,
   "id": "d4e95d8d-27e1-48b6-a3e8-740d59984f8d",
   "metadata": {},
   "outputs": [
    {
     "name": "stdin",
     "output_type": "stream",
     "text": [
      "Enter a Number: 5\n"
     ]
    },
    {
     "name": "stdout",
     "output_type": "stream",
     "text": [
      "the square of 5 is 25\n"
     ]
    }
   ],
   "source": [
    "num = eval(input(\"Enter a Number:\"))\n",
    "square = num * num\n",
    "print(\"the square of {} is {}\".format(num,square))"
   ]
  },
  {
   "cell_type": "code",
   "execution_count": 7,
   "id": "c9250e8f-4f30-495f-8952-e497d5a16b9b",
   "metadata": {},
   "outputs": [
    {
     "name": "stdout",
     "output_type": "stream",
     "text": [
      "the square of 22 is 484\n"
     ]
    }
   ],
   "source": [
    "import random\n",
    "number = random.randint(1,100)\n",
    "square = number * number\n",
    "print(\"the square of {} is {}\".format(number,square))"
   ]
  },
  {
   "cell_type": "code",
   "execution_count": 9,
   "id": "63aabf66-5603-4eb5-bdfd-f91dd76e8cb6",
   "metadata": {},
   "outputs": [
    {
     "name": "stdin",
     "output_type": "stream",
     "text": [
      " 2222\n"
     ]
    },
    {
     "data": {
      "text/plain": [
       "2222"
      ]
     },
     "execution_count": 9,
     "metadata": {},
     "output_type": "execute_result"
    }
   ],
   "source": [
    "eval(input())"
   ]
  },
  {
   "cell_type": "code",
   "execution_count": 14,
   "id": "adc7c8ba-3c5e-4983-9a12-753198315de0",
   "metadata": {},
   "outputs": [
    {
     "name": "stdin",
     "output_type": "stream",
     "text": [
      "Enter a distance 20\n",
      "Enter a rate 2\n"
     ]
    },
    {
     "name": "stdout",
     "output_type": "stream",
     "text": [
      "for 20 km the charge is 40\n"
     ]
    }
   ],
   "source": [
    "distance = eval(input(\"Enter a distance\"))\n",
    "rate = eval(input(\"Enter a rate\"))\n",
    "total=distance * rate\n",
    "print(\"for {} km the charge is {}\".format(distance,total))"
   ]
  },
  {
   "cell_type": "code",
   "execution_count": 15,
   "id": "ff156d55-fcea-4002-8b61-1bf952469a09",
   "metadata": {},
   "outputs": [
    {
     "name": "stdin",
     "output_type": "stream",
     "text": [
      "Enter a bill in dollars 100\n",
      "One dollar equal to 80\n"
     ]
    },
    {
     "name": "stdout",
     "output_type": "stream",
     "text": [
      "8000\n"
     ]
    }
   ],
   "source": [
    "bill = eval(input(\"Enter a bill in dollars\"))\n",
    "conversion = eval(input(\"One dollar equal to\"))\n",
    "total_amount = bill * conversion\n",
    "print(total_amount)"
   ]
  },
  {
   "cell_type": "code",
   "execution_count": 18,
   "id": "dfddcac7-6896-4952-9ec7-b64efd9ff228",
   "metadata": {},
   "outputs": [
    {
     "name": "stdin",
     "output_type": "stream",
     "text": [
      "Enter a rank: 200000\n",
      "seat: Payment\n",
      "college name: Naresh it\n",
      "Enter a fee: 20000\n",
      "sem: 4\n"
     ]
    },
    {
     "name": "stdout",
     "output_type": "stream",
     "text": [
      "total college fee is 80000\n"
     ]
    }
   ],
   "source": [
    "Father = \"Which course you want to do\"\n",
    "son = \"I want to pursue DS course\"\n",
    "Father = \"oh! That is very nice\"\n",
    "Father =  \"May i know your JEE rank\"\n",
    "rank = eval(input(\"Enter a rank:\"))\n",
    "Father=\"then how can you pursue\"\n",
    "seat = input(\"seat:\")\n",
    "father =\"Which college is offer\"\n",
    "colege= input(\"college name:\")\n",
    "father=\"How much is the fee\"\n",
    "fee = eval(input(\"Enter a fee:\"))\n",
    "father=\"How many sem\"\n",
    "sem=eval(input(\"sem:\"))\n",
    "father = \"How much cost\"\n",
    "son = sem * fee\n",
    "print(\"total college fee is {}\".format(son))\n",
    "\n",
    "\n",
    "\n",
    "                 "
   ]
  },
  {
   "cell_type": "code",
   "execution_count": null,
   "id": "54197e4e-e6be-407a-9dd4-39aaf03d71b4",
   "metadata": {},
   "outputs": [],
   "source": []
  }
 ],
 "metadata": {
  "kernelspec": {
   "display_name": "Python 3 (ipykernel)",
   "language": "python",
   "name": "python3"
  },
  "language_info": {
   "codemirror_mode": {
    "name": "ipython",
    "version": 3
   },
   "file_extension": ".py",
   "mimetype": "text/x-python",
   "name": "python",
   "nbconvert_exporter": "python",
   "pygments_lexer": "ipython3",
   "version": "3.12.7"
  }
 },
 "nbformat": 4,
 "nbformat_minor": 5
}
